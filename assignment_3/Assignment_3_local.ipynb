{
 "cells": [
  {
   "cell_type": "markdown",
   "metadata": {},
   "source": [
    "# Assignment 3 - Evaluation\n",
    "\n",
    "In this assignment you will train several models and evaluate how effectively\n",
    "they predict instances of fraud using data based on [this dataset from\n",
    "Kaggle](https://www.kaggle.com/dalpozz/creditcardfraud).\n",
    " \n",
    "Each row in `fraud_data.csv` corresponds to a credit card transaction.\n",
    "Features include confidential variables `V1` through `V28` as well as\n",
    "`Amount` which is the amount of the transaction.\n",
    " \n",
    "The target is stored in the `class` column, where a value of 1 corresponds to\n",
    "an instance of fraud and 0 corresponds to an instance of not fraud."
   ]
  },
  {
   "cell_type": "code",
   "execution_count": 1,
   "metadata": {
    "lines_to_next_cell": 1
   },
   "outputs": [],
   "source": [
    "import matplotlib.pyplot as plt\n",
    "import numpy as np\n",
    "import pandas as pd\n",
    "import seaborn as sns\n",
    "from sklearn.dummy import DummyClassifier\n",
    "from sklearn.linear_model import LogisticRegression\n",
    "from sklearn.metrics import confusion_matrix, precision_score, recall_score\n",
    "from sklearn.model_selection import GridSearchCV, train_test_split\n",
    "from sklearn.svm import SVC\n",
    "\n",
    "\n",
    "%matplotlib notebook"
   ]
  },
  {
   "cell_type": "markdown",
   "metadata": {},
   "source": [
    "## Question 1\n",
    "\n",
    "Import the data from `fraud_data.csv`. What percentage of the observations in\n",
    "the dataset are instances of fraud?\n",
    "\n",
    "*This function should return a float between 0 and 1.*"
   ]
  },
  {
   "cell_type": "code",
   "execution_count": 2,
   "metadata": {},
   "outputs": [
    {
     "data": {
      "text/plain": [
       "0.016410823768035772"
      ]
     },
     "execution_count": 2,
     "metadata": {},
     "output_type": "execute_result"
    }
   ],
   "source": [
    "def answer_one():\n",
    "\n",
    "    # Read the csv file, and create a DataFrame:\n",
    "    df = pd.read_csv('fraud_data.csv')\n",
    "\n",
    "    # Create a Series containing the targets:\n",
    "    target = df.iloc[:, -1]\n",
    "\n",
    "    # Compute the number of instances of fraud:\n",
    "    num_fraud = target[target == 1].size\n",
    "\n",
    "    # Compute the total number of observations:\n",
    "    num_obs = target.size\n",
    "\n",
    "    # Compute the ratio between num_fraud and num_obs:\n",
    "    ratio = num_fraud / num_obs\n",
    "\n",
    "    return ratio\n",
    "\n",
    "\n",
    "answer_one()"
   ]
  },
  {
   "cell_type": "code",
   "execution_count": 3,
   "metadata": {
    "lines_to_next_cell": 1
   },
   "outputs": [],
   "source": [
    "# Read the csv file, and create a DataFrame:\n",
    "df = pd.read_csv('fraud_data.csv')\n",
    "\n",
    "# Extract the features and targets from this DataFrame:\n",
    "X = df.iloc[:, :-1]\n",
    "y = df.iloc[:, -1]\n",
    "\n",
    "# Split this data into training and test sets.\n",
    "# Use X_train, X_test, y_train and y_test for all of the following questions.\n",
    "X_train, X_test, y_train, y_test = train_test_split(X, y, random_state=0)"
   ]
  },
  {
   "cell_type": "markdown",
   "metadata": {},
   "source": [
    "## Question 2\n",
    "\n",
    "Using `X_train`, `X_test`, `y_train` and `y_test` (as defined above), train\n",
    "a dummy classifier that classifies everything as the majority class of the\n",
    "training data. What is the accuracy of this classifier? What is the recall?\n",
    "\n",
    "*This function should a return a tuple with two floats, i.e.,\n",
    "`(accuracy score, recall score)`.*"
   ]
  },
  {
   "cell_type": "code",
   "execution_count": 4,
   "metadata": {
    "lines_to_next_cell": 1
   },
   "outputs": [
    {
     "data": {
      "text/plain": [
       "(0.9852507374631269, 0.0)"
      ]
     },
     "execution_count": 4,
     "metadata": {},
     "output_type": "execute_result"
    }
   ],
   "source": [
    "def answer_two():\n",
    "\n",
    "    # Create a DummyClassifier object:\n",
    "    clf = DummyClassifier(strategy='most_frequent')\n",
    "\n",
    "    # Fit this classifier using the training data:\n",
    "    clf.fit(X_train, y_train)\n",
    "\n",
    "    # Compute the accuracy of this classifier using the test data:\n",
    "    accuracy = clf.score(X_test, y_test)\n",
    "\n",
    "    # Get the predictions for the test data, and compute the recall:\n",
    "    y_test_pred = clf.predict(X_test)\n",
    "    recall = recall_score(y_test, y_test_pred)\n",
    "\n",
    "    return (accuracy, recall)\n",
    "\n",
    "\n",
    "answer_two()"
   ]
  },
  {
   "cell_type": "markdown",
   "metadata": {},
   "source": [
    "## Question 3\n",
    "\n",
    "Using `X_train`, `X_test`, `y_train` and `y_test` (as defined above), train a\n",
    "SVC classifier using the default parameters. What is the accuracy, recall,\n",
    "and precision of this classifier?\n",
    "\n",
    "*This function should a return a tuple with three floats, i.e.,\n",
    "`(accuracy score, recall score, precision score)`.*"
   ]
  },
  {
   "cell_type": "code",
   "execution_count": 5,
   "metadata": {
    "lines_to_next_cell": 1
   },
   "outputs": [
    {
     "data": {
      "text/plain": [
       "(0.9900442477876106, 0.35, 0.9333333333333333)"
      ]
     },
     "execution_count": 5,
     "metadata": {},
     "output_type": "execute_result"
    }
   ],
   "source": [
    "def answer_three():\n",
    "\n",
    "    # Create an SVC object:\n",
    "    clf = SVC(random_state=0)\n",
    "\n",
    "    # Fit this classifier using the training data:\n",
    "    clf.fit(X_train, y_train)\n",
    "\n",
    "    # Compute the accuracy using the test data:\n",
    "    accuracy = clf.score(X_test, y_test)\n",
    "\n",
    "    # Get the predictions for the test data:\n",
    "    y_test_pred = clf.predict(X_test)\n",
    "\n",
    "    # Compute the recall:\n",
    "    recall = recall_score(y_test, y_test_pred)\n",
    "\n",
    "    # Compute the precision:\n",
    "    precision = precision_score(y_test, y_test_pred)\n",
    "\n",
    "    return (accuracy, recall, precision)\n",
    "\n",
    "\n",
    "answer_three()"
   ]
  },
  {
   "cell_type": "markdown",
   "metadata": {},
   "source": [
    "## Question 4\n",
    "\n",
    "Using the SVC classifier with parameters `{'C': 1e9, 'gamma': 1e-07}`, what\n",
    "is the confusion matrix when using a threshold of -220 on the decision\n",
    "function? Use `X_test` and `y_test`.\n",
    "\n",
    "*This function should return a confusion matrix, a 2x2 numpy array with 4\n",
    "integers.*"
   ]
  },
  {
   "cell_type": "code",
   "execution_count": null,
   "metadata": {
    "lines_to_next_cell": 1
   },
   "outputs": [],
   "source": [
    "def answer_four():\n",
    "\n",
    "    #\n",
    "\n",
    "    return 0\n",
    "\n",
    "\n",
    "answer_four()"
   ]
  },
  {
   "cell_type": "markdown",
   "metadata": {},
   "source": [
    "### Question 5\n",
    "\n",
    "Train a logistic regression classifier with default parameters using X_train and y_train.\n",
    "\n",
    "For the logistic regression classifier, create a precision recall curve and a ROC curve using y_test and the probability estimates for X_test (probability it is fraud).\n",
    "\n",
    "Looking at the precision recall curve, what is the recall when the precision is `0.75`?\n",
    "\n",
    "Looking at the ROC curve, what is the true positive rate when the false positive rate is `0.16`?\n",
    "\n",
    "*This function should return a tuple with two floats, i.e., `(recall, true positive rate)`.*"
   ]
  },
  {
   "cell_type": "code",
   "execution_count": null,
   "metadata": {},
   "outputs": [],
   "source": [
    "def answer_five():\n",
    "\n",
    "    # Your code here\n",
    "\n",
    "    return # Return your answer"
   ]
  },
  {
   "cell_type": "markdown",
   "metadata": {},
   "source": [
    "### Question 6\n",
    "\n",
    "Perform a grid search over the parameters listed below for a Logistic Regression classifier, using recall for scoring and the default 3-fold cross validation.\n",
    "\n",
    "`'penalty': ['l1', 'l2']`\n",
    "\n",
    "`'C':[0.01, 0.1, 1, 10, 100]`\n",
    "\n",
    "From `.cv_results_`, create an array of the mean test scores of each parameter combination. i.e.\n",
    "\n",
    "|      \t| `l1` \t| `l2` \t|\n",
    "|:----:\t|----\t|----\t|\n",
    "| **`0.01`** \t|    ?\t|   ? \t|\n",
    "| **`0.1`**  \t|    ?\t|   ? \t|\n",
    "| **`1`**    \t|    ?\t|   ? \t|\n",
    "| **`10`**   \t|    ?\t|   ? \t|\n",
    "| **`100`**   \t|    ?\t|   ? \t|\n",
    "\n",
    "*This function should return a 5 by 2 numpy array with 10 floats.*\n",
    "\n",
    "*Note: do not return a DataFrame, just the values denoted by '?' above in a numpy array. You might need to reshape your raw result to meet the format we are looking for.*"
   ]
  },
  {
   "cell_type": "code",
   "execution_count": null,
   "metadata": {},
   "outputs": [],
   "source": [
    "def answer_six():\n",
    "\n",
    "    # Your code here\n",
    "\n",
    "    return # Return your answer"
   ]
  },
  {
   "cell_type": "code",
   "execution_count": null,
   "metadata": {},
   "outputs": [],
   "source": [
    "# Use the following function to help visualize results from the grid search\n",
    "def GridSearch_Heatmap(scores):\n",
    "    plt.figure()\n",
    "    sns.heatmap(scores.reshape(5,2), xticklabels=['l1','l2'], yticklabels=[0.01, 0.1, 1, 10, 100])\n",
    "    plt.yticks(rotation=0);\n",
    "\n",
    "#GridSearch_Heatmap(answer_six())"
   ]
  }
 ],
 "metadata": {
  "coursera": {
   "course_slug": "python-machine-learning",
   "graded_item_id": "5yX9Z",
   "launcher_item_id": "eqnV3",
   "part_id": "Msnj0"
  },
  "jupytext": {
   "encoding": "# -*- coding: utf-8 -*-",
   "formats": "ipynb,py:percent"
  },
  "kernelspec": {
   "display_name": "Python 3",
   "language": "python",
   "name": "python3"
  },
  "language_info": {
   "codemirror_mode": {
    "name": "ipython",
    "version": 3
   },
   "file_extension": ".py",
   "mimetype": "text/x-python",
   "name": "python",
   "nbconvert_exporter": "python",
   "pygments_lexer": "ipython3",
   "version": "3.8.6"
  }
 },
 "nbformat": 4,
 "nbformat_minor": 2
}
