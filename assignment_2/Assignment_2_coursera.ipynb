{
 "cells": [
  {
   "cell_type": "markdown",
   "metadata": {},
   "source": [
    "---\n",
    "\n",
    "_You are currently looking at **version 1.5** of this notebook. To download notebooks and datafiles, as well as get help on Jupyter notebooks in the Coursera platform, visit the [Jupyter Notebook FAQ](https://www.coursera.org/learn/python-machine-learning/resources/bANLa) course resource._\n",
    "\n",
    "---"
   ]
  },
  {
   "cell_type": "markdown",
   "metadata": {},
   "source": [
    "# Assignment 2\n",
    "\n",
    "In this assignment you'll explore the relationship between model complexity and generalization performance, by adjusting key parameters of various supervised learning models. Part 1 of this assignment will look at regression and Part 2 will look at classification.\n",
    "\n",
    "## Part 1 - Regression"
   ]
  },
  {
   "cell_type": "markdown",
   "metadata": {},
   "source": [
    "First, run the following block to set up the variables needed for later sections."
   ]
  },
  {
   "cell_type": "code",
   "execution_count": 1,
   "metadata": {
    "collapsed": true,
    "scrolled": false
   },
   "outputs": [],
   "source": [
    "# import matplotlib.pyplot as plt\n",
    "import numpy as np\n",
    "import pandas as pd\n",
    "from sklearn.linear_model import Lasso, LinearRegression\n",
    "from sklearn.metrics import r2_score\n",
    "from sklearn.model_selection import train_test_split, validation_curve\n",
    "from sklearn.preprocessing import PolynomialFeatures\n",
    "from sklearn.svm import SVC\n",
    "from sklearn.tree import DecisionTreeClassifier\n",
    "\n",
    "\n",
    "# %matplotlib notebook\n",
    "np.random.seed(0)\n",
    "\n",
    "# Number of data points:\n",
    "n = 15\n",
    "\n",
    "# Generate some synthetic data:\n",
    "X = np.linspace(0, 10, n) + np.random.randn(n) / 5\n",
    "y = np.sin(X) + X / 6 + np.random.randn(n) / 10\n",
    "\n",
    "# Split the data into training and test sets:\n",
    "X_train, X_test, y_train, y_test = train_test_split(X, y, random_state=0)\n",
    "\n",
    "\n",
    "def part1_scatter():\n",
    "    \"\"\"Create a scatterplot of the data points in the training and test sets.\"\"\"\n",
    "    plt.figure()\n",
    "    plt.scatter(X_train, y_train, label='Training Data')\n",
    "    plt.scatter(X_test, y_test, label='Test Data')\n",
    "    plt.legend(loc=4);\n",
    "\n",
    "\n",
    "# NOTE: Uncomment the function below to visualize the data, but be sure to\n",
    "# re-comment it before submitting this assignment to the autograder.\n",
    "# part1_scatter()"
   ]
  },
  {
   "cell_type": "markdown",
   "metadata": {},
   "source": [
    "### Question 1\n",
    "\n",
    "Write a function that fits a polynomial LinearRegression model on the *training data* `X_train` for degrees 1, 3, 6, and 9. (Use PolynomialFeatures in sklearn.preprocessing to create the polynomial features and then fit a linear regression model) For each model, find 100 predicted values over the interval x = 0 to 10 (e.g. `np.linspace(0,10,100)`) and store this in a numpy array. The first row of this array should correspond to the output from the model trained on degree 1, the second row degree 3, the third row degree 6, and the fourth row degree 9.\n",
    "\n",
    "<img src=\"readonly/polynomialreg1.png\" style=\"width: 1000px;\"/>\n",
    "\n",
    "The figure above shows the fitted models plotted on top of the original data (using `plot_one()`).\n",
    "\n",
    "<br>\n",
    "*This function should return a numpy array with shape `(4, 100)`*"
   ]
  },
  {
   "cell_type": "code",
   "execution_count": 2,
   "metadata": {
    "collapsed": true
   },
   "outputs": [],
   "source": [
    "def predict_single_degree(degree):\n",
    "    \"\"\"Given the degree of the polynomial, compute the predictions.\"\"\"\n",
    "\n",
    "    # Reshape the training data X_train.\n",
    "    # Put the data in the format expected by the fit_transform method of PolynomialFeatures.\n",
    "    X_train_rsh = X_train.reshape((X_train.size, 1))\n",
    "\n",
    "    # Generate the polynomial features from X_train_rsh:\n",
    "    X_train_poly_feats = PolynomialFeatures(degree=degree).fit_transform(X_train_rsh)\n",
    "\n",
    "    # Create a LinearRegression object, and fit the model using the polynomial features:\n",
    "    lin_regr = LinearRegression().fit(X_train_poly_feats, y_train)\n",
    "\n",
    "    # Generate the feature values used for prediction:\n",
    "    X_pred = np.linspace(0, 10, 100).reshape((100, 1))\n",
    "    X_pred_poly_feats = PolynomialFeatures(degree=degree).fit_transform(X_pred)\n",
    "\n",
    "    # Compute the predicted values:\n",
    "    predictions = lin_regr.predict(X_pred_poly_feats)\n",
    "\n",
    "    return predictions\n",
    "\n",
    "\n",
    "def answer_one():\n",
    "\n",
    "    # List containing the degrees of the polynomials:\n",
    "    degrees = [1, 3, 6, 9]\n",
    "    num_degrees = len(degrees)\n",
    "\n",
    "    # Initialize the array that will store all of the predictions:\n",
    "    degree_predictions = np.zeros((num_degrees, 100))\n",
    "\n",
    "    # Loop over the degrees:\n",
    "    for i in range(num_degrees):\n",
    "        degree_predictions[i, :] = predict_single_degree(degrees[i])\n",
    "\n",
    "    return degree_predictions"
   ]
  },
  {
   "cell_type": "code",
   "execution_count": 3,
   "metadata": {
    "collapsed": true
   },
   "outputs": [],
   "source": [
    "def plot_one(degree_predictions):\n",
    "    \"\"\"Use this function to replicate the figure given above.\"\"\"\n",
    "    plt.figure(figsize=(10, 5))\n",
    "    plt.plot(X_train, y_train, 'o', label='Training Data', markersize=10)\n",
    "    plt.plot(X_test, y_test, 'o', label='Test Data', markersize=10)\n",
    "    for i, degree in enumerate([1, 3, 6, 9]):\n",
    "        plt.plot(\n",
    "            np.linspace(0, 10, 100),\n",
    "            degree_predictions[i],\n",
    "            alpha=0.8,\n",
    "            lw=2,\n",
    "            label='Degree = {}'.format(degree)\n",
    "        )\n",
    "    plt.ylim(-1, 2.5)\n",
    "    plt.legend(loc=4)\n",
    "\n",
    "\n",
    "# plot_one(answer_one())"
   ]
  },
  {
   "cell_type": "markdown",
   "metadata": {},
   "source": [
    "### Question 2\n",
    "\n",
    "Write a function that fits a polynomial LinearRegression model on the training data `X_train` for degrees 0 through 9. For each model compute the $R^2$ (coefficient of determination) regression score on the training data as well as the the test data, and return both of these arrays in a tuple.\n",
    "\n",
    "*This function should return one tuple of numpy arrays `(r2_train, r2_test)`. Both arrays should have shape `(10,)`*"
   ]
  },
  {
   "cell_type": "code",
   "execution_count": 4,
   "metadata": {
    "collapsed": false
   },
   "outputs": [
    {
     "data": {
      "text/plain": [
       "(array([ 0.        ,  0.42924578,  0.4510998 ,  0.58719954,  0.91941945,\n",
       "         0.97578641,  0.99018233,  0.99352509,  0.99637545,  0.99803706]),\n",
       " array([-0.47808642, -0.45237104, -0.06856984,  0.00533105,  0.73004943,\n",
       "         0.87708301,  0.9214094 ,  0.92021504,  0.63247951, -0.64525377]))"
      ]
     },
     "execution_count": 4,
     "metadata": {},
     "output_type": "execute_result"
    }
   ],
   "source": [
    "def scores_single_degree(degree):\n",
    "    \"\"\"Given the degree of the polynomial, compute the R^2 regression score\n",
    "       for the training and test sets.\"\"\"\n",
    "\n",
    "    # Generate the polynomial features for the training data X_train:\n",
    "    X_train_poly_feats = PolynomialFeatures(degree=degree).fit_transform(X_train.reshape((X_train.size, 1)))\n",
    "\n",
    "    # Generate the polynomial features for the test data X_test:\n",
    "    X_test_poly_feats = PolynomialFeatures(degree=degree).fit_transform(X_test.reshape((X_test.size, 1)))\n",
    "\n",
    "    # Create a LinearRegression object, and fit the model using the polynomial features for the training data:\n",
    "    lin_regr = LinearRegression().fit(X_train_poly_feats, y_train)\n",
    "\n",
    "    # Compute the predicted values using the training data:\n",
    "    y_train_pred = lin_regr.predict(X_train_poly_feats)\n",
    "\n",
    "    # Compute the predicted values using the test data:\n",
    "    y_test_pred = lin_regr.predict(X_test_poly_feats)\n",
    "\n",
    "    # Compute the regression score associated with the training data:\n",
    "    r2_train = r2_score(y_train, y_train_pred)\n",
    "\n",
    "    # Compute the regression score associated with the test data:\n",
    "    r2_test = r2_score(y_test, y_test_pred)\n",
    "\n",
    "    return (r2_train, r2_test)\n",
    "\n",
    "\n",
    "def answer_two():\n",
    "\n",
    "    # List containing the degrees of the polynomials:\n",
    "    degrees = [degree for degree in range(10)]\n",
    "    num_degrees = len(degrees)\n",
    "\n",
    "    # Initialize the arrays that will store the regression scores:\n",
    "    scores_train = np.zeros(num_degrees)\n",
    "    scores_test = np.zeros(num_degrees)\n",
    "\n",
    "    # Loop over the degrees:\n",
    "    for i in range(num_degrees):\n",
    "        scores_tuple = scores_single_degree(degrees[i])\n",
    "        scores_train[i] = scores_tuple[0]\n",
    "        scores_test[i] = scores_tuple[1]\n",
    "\n",
    "    return (scores_train, scores_test)\n",
    "\n",
    "\n",
    "answer_two()"
   ]
  },
  {
   "cell_type": "markdown",
   "metadata": {},
   "source": [
    "### Question 3\n",
    "\n",
    "Based on the $R^2$ scores from question 2 (degree levels 0 through 9), what degree level corresponds to a model that is underfitting? What degree level corresponds to a model that is overfitting? What choice of degree level would provide a model with good generalization performance on this dataset? \n",
    "\n",
    "Hint: Try plotting the $R^2$ scores from question 2 to visualize the relationship between degree level and $R^2$. Remember to comment out the import matplotlib line before submission.\n",
    "\n",
    "*This function should return one tuple with the degree values in this order: `(Underfitting, Overfitting, Good_Generalization)`. There might be multiple correct solutions, however, you only need to return one possible solution, for example, (1,2,3).* "
   ]
  },
  {
   "cell_type": "code",
   "execution_count": 5,
   "metadata": {
    "collapsed": true
   },
   "outputs": [],
   "source": [
    "def plot_two():\n",
    "    \"\"\"Plot the R^2 regression scores computed by the previous function.\"\"\"\n",
    "    scores_train, scores_test = answer_two()\n",
    "    _, ax = plt.subplots(figsize=(10, 5))\n",
    "    labels = [str(i) for i in range(10)]\n",
    "    x = np.arange(len(labels))\n",
    "    width = 0.3\n",
    "    ax.bar(x - width / 2, scores_train, width, label='Training Data')\n",
    "    ax.bar(x + width / 2, scores_test, width, label='Test Data')\n",
    "    ax.set_xlabel('Degree')\n",
    "    ax.set_ylabel('Score')\n",
    "    ax.set_title('Regression Scores for the Training and Test Sets')\n",
    "    ax.set_xticks(x)\n",
    "    ax.set_xticklabels(labels)\n",
    "    ax.legend()\n",
    "    plt.show()\n",
    "\n",
    "\n",
    "# plot_two()\n",
    "\n",
    "\n",
    "def answer_three():\n",
    "\n",
    "    underfitting = 1\n",
    "    overfitting = 9\n",
    "    good_generalization = 6\n",
    "\n",
    "    return (underfitting, overfitting, good_generalization)"
   ]
  },
  {
   "cell_type": "markdown",
   "metadata": {},
   "source": [
    "### Question 4\n",
    "\n",
    "Training models on high degree polynomial features can result in overly complex models that overfit, so we often use regularized versions of the model to constrain model complexity, as we saw with Ridge and Lasso linear regression.\n",
    "\n",
    "For this question, train two models: a non-regularized LinearRegression model (default parameters) and a regularized Lasso Regression model (with parameters `alpha=0.01`, `max_iter=10000`) both on polynomial features of degree 12. Return the $R^2$ score for both the LinearRegression and Lasso model's test sets.\n",
    "\n",
    "*This function should return one tuple `(LinearRegression_R2_test_score, Lasso_R2_test_score)`*"
   ]
  },
  {
   "cell_type": "code",
   "execution_count": 6,
   "metadata": {
    "collapsed": false
   },
   "outputs": [
    {
     "name": "stderr",
     "output_type": "stream",
     "text": [
      "/opt/conda/lib/python3.6/site-packages/sklearn/linear_model/coordinate_descent.py:484: ConvergenceWarning: Objective did not converge. You might want to increase the number of iterations. Fitting data with very small alpha may cause precision problems.\n",
      "  ConvergenceWarning)\n"
     ]
    },
    {
     "data": {
      "text/plain": [
       "(-4.3120017974975458, 0.84066256147502361)"
      ]
     },
     "execution_count": 6,
     "metadata": {},
     "output_type": "execute_result"
    }
   ],
   "source": [
    "def answer_four():\n",
    "\n",
    "    # Generate the polynomial features for the training data X_train:\n",
    "    X_train_poly_feats = PolynomialFeatures(degree=12).fit_transform(X_train.reshape((X_train.size, 1)))\n",
    "\n",
    "    # Generate the polynomial features for the test data X_test:\n",
    "    X_test_poly_feats = PolynomialFeatures(degree=12).fit_transform(X_test.reshape((X_test.size, 1)))\n",
    "\n",
    "    # Create a LinearRegression object, and fit the model using the polynomial features for the training data:\n",
    "    lin_regr = LinearRegression().fit(X_train_poly_feats, y_train)\n",
    "\n",
    "    # Create a Lasso object, and fit the model using the polynomial features for the training data:\n",
    "    lasso = Lasso(alpha=0.01, max_iter=10000).fit(X_train_poly_feats, y_train)\n",
    "\n",
    "    # Using the non-regularized model, compute the predictions for the test data:\n",
    "    y_test_pred_lin_regr = lin_regr.predict(X_test_poly_feats)\n",
    "\n",
    "    # Using the regularized model, compute the predictions for the test data:\n",
    "    y_test_pred_lasso = lasso.predict(X_test_poly_feats)\n",
    "\n",
    "    # Using the non-regularized model, compute the regression score associated with the test data:\n",
    "    r2_test_lin_regr = r2_score(y_test, y_test_pred_lin_regr)\n",
    "\n",
    "    # Using the regularized model, compute the regression score associated with the test data:\n",
    "    r2_test_lasso = r2_score(y_test, y_test_pred_lasso)\n",
    "\n",
    "    return (r2_test_lin_regr, r2_test_lasso)\n",
    "\n",
    "\n",
    "answer_four()"
   ]
  },
  {
   "cell_type": "markdown",
   "metadata": {},
   "source": [
    "## Part 2 - Classification\n",
    "\n",
    "Here's an application of machine learning that could save your life! For this section of the assignment we will be working with the [UCI Mushroom Data Set](http://archive.ics.uci.edu/ml/datasets/Mushroom?ref=datanews.io) stored in `readonly/mushrooms.csv`. The data will be used to train a model to predict whether or not a mushroom is poisonous. The following attributes are provided:\n",
    "\n",
    "*Attribute Information:*\n",
    "\n",
    "1. cap-shape: bell=b, conical=c, convex=x, flat=f, knobbed=k, sunken=s \n",
    "2. cap-surface: fibrous=f, grooves=g, scaly=y, smooth=s \n",
    "3. cap-color: brown=n, buff=b, cinnamon=c, gray=g, green=r, pink=p, purple=u, red=e, white=w, yellow=y \n",
    "4. bruises?: bruises=t, no=f \n",
    "5. odor: almond=a, anise=l, creosote=c, fishy=y, foul=f, musty=m, none=n, pungent=p, spicy=s \n",
    "6. gill-attachment: attached=a, descending=d, free=f, notched=n \n",
    "7. gill-spacing: close=c, crowded=w, distant=d \n",
    "8. gill-size: broad=b, narrow=n \n",
    "9. gill-color: black=k, brown=n, buff=b, chocolate=h, gray=g, green=r, orange=o, pink=p, purple=u, red=e, white=w, yellow=y \n",
    "10. stalk-shape: enlarging=e, tapering=t \n",
    "11. stalk-root: bulbous=b, club=c, cup=u, equal=e, rhizomorphs=z, rooted=r, missing=? \n",
    "12. stalk-surface-above-ring: fibrous=f, scaly=y, silky=k, smooth=s \n",
    "13. stalk-surface-below-ring: fibrous=f, scaly=y, silky=k, smooth=s \n",
    "14. stalk-color-above-ring: brown=n, buff=b, cinnamon=c, gray=g, orange=o, pink=p, red=e, white=w, yellow=y \n",
    "15. stalk-color-below-ring: brown=n, buff=b, cinnamon=c, gray=g, orange=o, pink=p, red=e, white=w, yellow=y \n",
    "16. veil-type: partial=p, universal=u \n",
    "17. veil-color: brown=n, orange=o, white=w, yellow=y \n",
    "18. ring-number: none=n, one=o, two=t \n",
    "19. ring-type: cobwebby=c, evanescent=e, flaring=f, large=l, none=n, pendant=p, sheathing=s, zone=z \n",
    "20. spore-print-color: black=k, brown=n, buff=b, chocolate=h, green=r, orange=o, purple=u, white=w, yellow=y \n",
    "21. population: abundant=a, clustered=c, numerous=n, scattered=s, several=v, solitary=y \n",
    "22. habitat: grasses=g, leaves=l, meadows=m, paths=p, urban=u, waste=w, woods=d\n",
    "\n",
    "<br>\n",
    "\n",
    "The data in the mushrooms dataset is currently encoded with strings. These values will need to be encoded to numeric to work with sklearn. We'll use pd.get_dummies to convert the categorical variables into indicator variables. "
   ]
  },
  {
   "cell_type": "code",
   "execution_count": 7,
   "metadata": {
    "collapsed": false
   },
   "outputs": [],
   "source": [
    "mush_df = pd.read_csv('mushrooms.csv')\n",
    "mush_df2 = pd.get_dummies(mush_df)\n",
    "\n",
    "X_mush = mush_df2.iloc[:, 2:]\n",
    "y_mush = mush_df2.iloc[:, 1]\n",
    "\n",
    "# Use the variables X_train2, y_train2 for Question 5.\n",
    "X_train2, X_test2, y_train2, y_test2 = train_test_split(X_mush, y_mush, random_state=0)\n",
    "\n",
    "# For performance reasons, in Questions 6 and 7, we will create a smaller\n",
    "# version of the entire mushroom dataset for use in those questions. For\n",
    "# simplicity we'll just re-use the 25% test split created above as the\n",
    "# representative subset.\n",
    "\n",
    "# Use the variables X_subset, y_subset for Questions 6 and 7.\n",
    "X_subset = X_test2\n",
    "y_subset = y_test2"
   ]
  },
  {
   "cell_type": "markdown",
   "metadata": {},
   "source": [
    "### Question 5\n",
    "\n",
    "Using `X_train2` and `y_train2` from the preceeding cell, train a DecisionTreeClassifier with default parameters and random_state=0. What are the 5 most important features found by the decision tree?\n",
    "\n",
    "As a reminder, the feature names are available in the `X_train2.columns` property, and the order of the features in `X_train2.columns` matches the order of the feature importance values in the classifier's `feature_importances_` property. \n",
    "\n",
    "*This function should return a list of length 5 containing the feature names in descending order of importance.*\n",
    "\n",
    "*Note: remember that you also need to set random_state in the DecisionTreeClassifier.*"
   ]
  },
  {
   "cell_type": "code",
   "execution_count": 8,
   "metadata": {
    "collapsed": false
   },
   "outputs": [
    {
     "data": {
      "text/plain": [
       "['odor_n', 'stalk-root_c', 'stalk-root_r', 'spore-print-color_r', 'odor_l']"
      ]
     },
     "execution_count": 8,
     "metadata": {},
     "output_type": "execute_result"
    }
   ],
   "source": [
    "def answer_five():\n",
    "\n",
    "    # Create a DecisionTreeClassifier object:\n",
    "    clf = DecisionTreeClassifier(random_state=0)\n",
    "\n",
    "    # Fit this classifier using the training data X_train2 and y_train2:\n",
    "    clf.fit(X_train2, y_train2)\n",
    "\n",
    "    # Get the indexes for putting the feature importances in descending order:\n",
    "    idx = clf.feature_importances_.argsort()[::-1]\n",
    "\n",
    "    # Create the list containing the names of the 5 most important features:\n",
    "    top_5 = list(X_train2.columns.values[idx[:5]])\n",
    "\n",
    "    return top_5\n",
    "\n",
    "\n",
    "answer_five()"
   ]
  },
  {
   "cell_type": "markdown",
   "metadata": {},
   "source": [
    "### Question 6\n",
    "\n",
    "For this question, we're going to use the `validation_curve` function in `sklearn.model_selection` to determine training and test scores for a Support Vector Classifier (`SVC`) with varying parameter values.  Recall that the validation_curve function, in addition to taking an initialized unfitted classifier object, takes a dataset as input and does its own internal train-test splits to compute results.\n",
    "\n",
    "**Because creating a validation curve requires fitting multiple models, for performance reasons this question will use just a subset of the original mushroom dataset: please use the variables X_subset and y_subset as input to the validation curve function (instead of X_mush and y_mush) to reduce computation time.**\n",
    "\n",
    "The initialized unfitted classifier object we'll be using is a Support Vector Classifier with radial basis kernel.  So your first step is to create an `SVC` object with default parameters (i.e. `kernel='rbf', C=1`) and `random_state=0`. Recall that the kernel width of the RBF kernel is controlled using the `gamma` parameter.  \n",
    "\n",
    "With this classifier, and the dataset in X_subset, y_subset, explore the effect of `gamma` on classifier accuracy by using the `validation_curve` function to find the training and test scores for 6 values of `gamma` from `0.0001` to `10` (i.e. `np.logspace(-4,1,6)`). Recall that you can specify what scoring metric you want validation_curve to use by setting the \"scoring\" parameter.  In this case, we want to use \"accuracy\" as the scoring metric.\n",
    "\n",
    "For each level of `gamma`, `validation_curve` will fit 3 models on different subsets of the data, returning two 6x3 (6 levels of gamma x 3 fits per level) arrays of the scores for the training and test sets.\n",
    "\n",
    "Find the mean score across the three models for each level of `gamma` for both arrays, creating two arrays of length 6, and return a tuple with the two arrays.\n",
    "\n",
    "e.g.\n",
    "\n",
    "if one of your array of scores is\n",
    "\n",
    "    array([[ 0.5,  0.4,  0.6],\n",
    "           [ 0.7,  0.8,  0.7],\n",
    "           [ 0.9,  0.8,  0.8],\n",
    "           [ 0.8,  0.7,  0.8],\n",
    "           [ 0.7,  0.6,  0.6],\n",
    "           [ 0.4,  0.6,  0.5]])\n",
    "       \n",
    "it should then become\n",
    "\n",
    "    array([ 0.5,  0.73333333,  0.83333333,  0.76666667,  0.63333333, 0.5])\n",
    "\n",
    "*This function should return one tuple of numpy arrays `(training_scores, test_scores)` where each array in the tuple has shape `(6,)`.*"
   ]
  },
  {
   "cell_type": "code",
   "execution_count": 9,
   "metadata": {
    "collapsed": false
   },
   "outputs": [
    {
     "data": {
      "text/plain": [
       "(array([ 0.56647847,  0.93155951,  0.99039881,  1.        ,  1.        ,  1.        ]),\n",
       " array([ 0.56768547,  0.92959558,  0.98965952,  1.        ,  0.99507994,\n",
       "         0.52240279]))"
      ]
     },
     "execution_count": 9,
     "metadata": {},
     "output_type": "execute_result"
    }
   ],
   "source": [
    "def answer_six():\n",
    "\n",
    "    # Create an SVC object:\n",
    "    clf = SVC(kernel='rbf', C=1, random_state=0)\n",
    "\n",
    "    # Create the array containing the values of the gamma parameter:\n",
    "    gammas = np.logspace(-4, 1, 6)\n",
    "\n",
    "    # Compute the training and test scores for the values of gamma specified above:\n",
    "    train_scores, test_scores = validation_curve(\n",
    "        estimator=clf,\n",
    "        X=X_subset,\n",
    "        y=y_subset,\n",
    "        param_name='gamma',\n",
    "        param_range=gammas,\n",
    "        cv=3,\n",
    "        scoring='accuracy'\n",
    "    )\n",
    "\n",
    "    # For each value of gamma, compute the mean score corresponding to the training data:\n",
    "    train_means = train_scores.mean(axis=1)\n",
    "\n",
    "    # For each value of gamma, compute the mean score corresponding to the test data:\n",
    "    test_means = test_scores.mean(axis=1)\n",
    "\n",
    "    return (train_means, test_means)\n",
    "\n",
    "\n",
    "answer_six()"
   ]
  },
  {
   "cell_type": "markdown",
   "metadata": {},
   "source": [
    "### Question 7\n",
    "\n",
    "Based on the scores from question 6, what gamma value corresponds to a model that is underfitting (and has the worst test set accuracy)? What gamma value corresponds to a model that is overfitting (and has the worst test set accuracy)? What choice of gamma would be the best choice for a model with good generalization performance on this dataset (high accuracy on both training and test set)? \n",
    "\n",
    "Hint: Try plotting the scores from question 6 to visualize the relationship between gamma and accuracy. Remember to comment out the import matplotlib line before submission.\n",
    "\n",
    "*This function should return one tuple with the degree values in this order: `(Underfitting, Overfitting, Good_Generalization)` Please note there is only one correct solution.*"
   ]
  },
  {
   "cell_type": "code",
   "execution_count": 10,
   "metadata": {
    "collapsed": true
   },
   "outputs": [],
   "source": [
    "def plot_six():\n",
    "    \"\"\"Plot the mean training and test scores computed by the previous function.\"\"\"\n",
    "    train_means, test_means = answer_six()\n",
    "    _, ax = plt.subplots(figsize=(10, 5))\n",
    "    labels = [str(gamma) for gamma in np.logspace(-4, 1, 6)]\n",
    "    x = np.arange(len(labels))\n",
    "    width = 0.3\n",
    "    ax.bar(x - width / 2, train_means, width, label='Training Data')\n",
    "    ax.bar(x + width / 2, test_means, width, label='Test Data')\n",
    "    ax.set_xlabel('gamma')\n",
    "    ax.set_ylabel('Mean score')\n",
    "    ax.set_title('Mean Scores for the Training and Test Sets')\n",
    "    ax.set_xticks(x)\n",
    "    ax.set_xticklabels(labels)\n",
    "    ax.legend()\n",
    "    plt.show()\n",
    "\n",
    "\n",
    "# plot_six()\n",
    "\n",
    "\n",
    "def answer_seven():\n",
    "\n",
    "    gammas = np.logspace(-4, 1, 6)\n",
    "    underfitting = gammas[0]\n",
    "    overfitting = gammas[5]\n",
    "    good_generalization = gammas[3]\n",
    "\n",
    "    return (underfitting, overfitting, good_generalization)"
   ]
  }
 ],
 "metadata": {
  "coursera": {
   "course_slug": "python-machine-learning",
   "graded_item_id": "eWYHL",
   "launcher_item_id": "BAqef",
   "part_id": "fXXRp"
  },
  "kernelspec": {
   "display_name": "Python 3",
   "language": "python",
   "name": "python3"
  },
  "language_info": {
   "codemirror_mode": {
    "name": "ipython",
    "version": 3
   },
   "file_extension": ".py",
   "mimetype": "text/x-python",
   "name": "python",
   "nbconvert_exporter": "python",
   "pygments_lexer": "ipython3",
   "version": "3.6.2"
  }
 },
 "nbformat": 4,
 "nbformat_minor": 2
}
